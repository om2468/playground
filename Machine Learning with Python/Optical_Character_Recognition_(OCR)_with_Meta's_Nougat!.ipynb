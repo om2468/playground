{
  "nbformat": 4,
  "nbformat_minor": 0,
  "metadata": {
    "colab": {
      "provenance": [],
      "gpuType": "T4",
      "include_colab_link": true
    },
    "kernelspec": {
      "name": "python3",
      "display_name": "Python 3"
    },
    "language_info": {
      "name": "python"
    },
    "accelerator": "GPU"
  },
  "cells": [
    {
      "cell_type": "markdown",
      "metadata": {
        "id": "view-in-github",
        "colab_type": "text"
      },
      "source": [
        "<a href=\"https://colab.research.google.com/github/om2468/playground.github.io/blob/main/Machine%20Learning%20with%20Python/Optical_Character_Recognition_(OCR)_with_Meta's_Nougat!.ipynb\" target=\"_parent\"><img src=\"https://colab.research.google.com/assets/colab-badge.svg\" alt=\"Open In Colab\"/></a>"
      ]
    },
    {
      "cell_type": "markdown",
      "source": [
        "# **Nougat**\n",
        "\n",
        "**Nougat is an encoder-decoder transformer model that can parse through PDFs to extract text, LaTeX math and tables. Nougat is built using the Document Understanding Transformer (DONUT) architecture. The models uses a visual encoder that crops the image to a specified size and outputs a sequence of embedded patches. The encoded image is decoded into a sequence of tokens using a transformer decoder. The team at Meta trained Nougat on over a million articles from arXiv, PubMed Central and the Industry Documents Library.**\n",
        "\n",
        "**Nougat outputs the information from PDFs into a Multimarkdown file output.**\n",
        "\n",
        "**Nougat can be trained or fine-tuned on a specified data set.**"
      ],
      "metadata": {
        "id": "KXhudR5lljsv"
      }
    },
    {
      "cell_type": "markdown",
      "source": [
        "<sup>Source: [Nougat: Neural Optical Understanding for Academic Documents](https://github.com/facebookresearch/nougat) GitHub Repository</sup>\n",
        "\n",
        "<sup>Source: [Nougat: Neural Optical Understanding for Academic Documents](https://arxiv.org/abs/2308.13418) Paper on arXiv</sup>"
      ],
      "metadata": {
        "id": "axZHBAhgNDgm"
      }
    },
    {
      "cell_type": "code",
      "source": [
        "from IPython import display\n",
        "import os"
      ],
      "metadata": {
        "id": "OFvAtOIlT6rq"
      },
      "execution_count": null,
      "outputs": []
    },
    {
      "cell_type": "code",
      "source": [
        "!pip install git+https://github.com/facebookresearch/nougat\n",
        "display.clear_output()"
      ],
      "metadata": {
        "id": "A3db1_kAlk-g"
      },
      "execution_count": null,
      "outputs": []
    },
    {
      "cell_type": "code",
      "source": [
        "!nougat -h"
      ],
      "metadata": {
        "id": "OYL7N-UcC12a",
        "colab": {
          "base_uri": "https://localhost:8080/"
        },
        "outputId": "e0901017-6850-469a-e7c3-51bca94c2435"
      },
      "execution_count": null,
      "outputs": [
        {
          "output_type": "stream",
          "name": "stdout",
          "text": [
            "2023-09-13 09:49:14.990107: W tensorflow/compiler/tf2tensorrt/utils/py_utils.cc:38] TF-TRT Warning: Could not find TensorRT\n",
            "usage: nougat\n",
            "       [-h]\n",
            "       [--batchsize BATCHSIZE]\n",
            "       [--checkpoint CHECKPOINT]\n",
            "       [--out OUT]\n",
            "       [--recompute]\n",
            "       [--markdown]\n",
            "       pdf\n",
            "       [pdf ...]\n",
            "\n",
            "positional arguments:\n",
            "  pdf\n",
            "    PDF(s) to\n",
            "    process.\n",
            "\n",
            "options:\n",
            "  -h, --help\n",
            "    show this\n",
            "    help\n",
            "    message and\n",
            "    exit\n",
            "  --batchsize BATCHSIZE, -b BATCHSIZE\n",
            "    Batch size\n",
            "    to use.\n",
            "  --checkpoint CHECKPOINT, -c CHECKPOINT\n",
            "    Path to\n",
            "    checkpoint\n",
            "    directory.\n",
            "  --out OUT, -o OUT\n",
            "    Output\n",
            "    directory.\n",
            "  --recompute\n",
            "    Recompute\n",
            "    already\n",
            "    computed\n",
            "    PDF,\n",
            "    discarding\n",
            "    previous pr\n",
            "    edictions.\n",
            "  --markdown\n",
            "    Add postpro\n",
            "    cessing\n",
            "    step for\n",
            "    markdown co\n",
            "    mpatibility\n",
            "    .\n"
          ]
        }
      ]
    },
    {
      "cell_type": "markdown",
      "source": [
        "## **Converting a Native PDF File**"
      ],
      "metadata": {
        "id": "7J7YEkRg1bh6"
      }
    },
    {
      "cell_type": "code",
      "source": [
        "!curl -o quantum_physics.pdf https://www.sydney.edu.au/science/chemistry/~mjtj/CHEM3117/Resources/postulates.pdf"
      ],
      "metadata": {
        "id": "3BpwfqO0jYxQ",
        "colab": {
          "base_uri": "https://localhost:8080/"
        },
        "outputId": "bb5a4d5c-ddac-4594-beba-e64ac02e2d05"
      },
      "execution_count": null,
      "outputs": [
        {
          "output_type": "stream",
          "name": "stdout",
          "text": [
            "  % Total    % Received % Xferd  Average Speed   Time    Time     Time  Current\n",
            "                                 Dload  Upload   Total   Spent    Left  Speed\n",
            "100 69838  100 69838    0     0  76773      0 --:--:-- --:--:-- --:--:-- 76745\n"
          ]
        }
      ]
    },
    {
      "cell_type": "markdown",
      "source": [
        "<sup>Source: [The Postulates of Quantum Mechanics](https://www.sydney.edu.au/science/chemistry/~mjtj/CHEM3117/Resources/postulates.pdf) from the University of Sydney</sup>"
      ],
      "metadata": {
        "id": "jjxHvXNRIz1f"
      }
    },
    {
      "cell_type": "code",
      "source": [
        "!nougat --markdown pdf '/content/quantum_physics.pdf' --out 'physics'"
      ],
      "metadata": {
        "id": "lN-FZQ7XSCp5",
        "colab": {
          "base_uri": "https://localhost:8080/"
        },
        "outputId": "9bb238bf-1b19-402e-ae1b-638d6d18fd9d"
      },
      "execution_count": null,
      "outputs": [
        {
          "output_type": "stream",
          "name": "stdout",
          "text": [
            "2023-09-13 09:49:27.381742: W tensorflow/compiler/tf2tensorrt/utils/py_utils.cc:38] TF-TRT Warning: Could not find TensorRT\n",
            "downloading nougat checkpoint version 0.1.0-small to path /root/.cache/torch/hub/nougat\n",
            "config.json: 100% 557/557 [00:00<00:00, 2.17Mb/s]\n",
            "pytorch_model.bin: 100% 956M/956M [00:20<00:00, 48.1Mb/s]\n",
            "special_tokens_map.json: 100% 96.0/96.0 [00:00<00:00, 536kb/s]\n",
            "tokenizer.json: 100% 2.04M/2.04M [00:00<00:00, 5.53Mb/s]\n",
            "tokenizer_config.json: 100% 106/106 [00:00<00:00, 516kb/s]\n",
            "INFO:root:Output directory does not exist. Creating output directory.\n",
            "/usr/local/lib/python3.10/dist-packages/torch/functional.py:504: UserWarning: torch.meshgrid: in an upcoming release, it will be required to pass the indexing argument. (Triggered internally at ../aten/src/ATen/native/TensorShape.cpp:3483.)\n",
            "  return _VF.meshgrid(tensors, **kwargs)  # type: ignore[attr-defined]\n",
            "  0% 0/1 [00:00<?, ?it/s][nltk_data] Downloading package words to /root/nltk_data...\n",
            "[nltk_data]   Unzipping corpora/words.zip.\n",
            "INFO:root:Processing file /content/quantum_physics.pdf with 2 pages\n",
            "100% 1/1 [00:17<00:00, 17.61s/it]\n"
          ]
        }
      ]
    },
    {
      "cell_type": "code",
      "source": [
        "display.Latex('/content/physics/quantum_physics.mmd')"
      ],
      "metadata": {
        "id": "PsAGnmBITr9v"
      },
      "execution_count": null,
      "outputs": []
    },
    {
      "cell_type": "markdown",
      "source": [
        "## **Converting a Scanned PDF**"
      ],
      "metadata": {
        "id": "zJPzV5cu9bbP"
      }
    },
    {
      "cell_type": "code",
      "source": [
        "!curl -o fundamental_quantum_equations.pdf https://www.informationphilosopher.com/solutions/scientists/dirac/Fund_QM_1925.pdf"
      ],
      "metadata": {
        "colab": {
          "base_uri": "https://localhost:8080/"
        },
        "id": "MIEGbfC5MTAK",
        "outputId": "0ab2c4d2-8580-4445-8873-882efa413050"
      },
      "execution_count": null,
      "outputs": [
        {
          "output_type": "stream",
          "name": "stdout",
          "text": [
            "  % Total    % Received % Xferd  Average Speed   Time    Time     Time  Current\n",
            "                                 Dload  Upload   Total   Spent    Left  Speed\n",
            "100 1196k  100 1196k    0     0   585k      0  0:00:02  0:00:02 --:--:--  586k\n"
          ]
        }
      ]
    },
    {
      "cell_type": "markdown",
      "source": [
        "<sup>Source: [The Fundamental Equations of Quantum Mechanics](https://www.informationphilosopher.com/solutions/scientists/dirac/Fund_QM_1925.pdf) by Paul Dirac from the Proceedings of the Royal Society of London</sup>"
      ],
      "metadata": {
        "id": "3L1NQqlIME3o"
      }
    },
    {
      "cell_type": "code",
      "source": [
        "!nougat --markdown pdf '/content/fundamental_quantum_equations.pdf' --out 'physics'"
      ],
      "metadata": {
        "id": "xQ2rYzL62Z56",
        "colab": {
          "base_uri": "https://localhost:8080/"
        },
        "outputId": "8d783d79-24e8-41d4-ccb0-7db1a1135b11"
      },
      "execution_count": null,
      "outputs": [
        {
          "output_type": "stream",
          "name": "stdout",
          "text": [
            "2023-09-13 09:50:39.039388: W tensorflow/compiler/tf2tensorrt/utils/py_utils.cc:38] TF-TRT Warning: Could not find TensorRT\n",
            "/usr/local/lib/python3.10/dist-packages/torch/functional.py:504: UserWarning: torch.meshgrid: in an upcoming release, it will be required to pass the indexing argument. (Triggered internally at ../aten/src/ATen/native/TensorShape.cpp:3483.)\n",
            "  return _VF.meshgrid(tensors, **kwargs)  # type: ignore[attr-defined]\n",
            "  0% 0/4 [00:00<?, ?it/s]WARNING:root:Found repetitions in sample 3\n",
            "INFO: likely hallucinated title at the end of the page: ## 2 x 2\n",
            "INFO:root:Processing file /content/fundamental_quantum_equations.pdf with 13 pages\n",
            " 50% 2/4 [00:40<00:40, 20.17s/it]WARNING:root:Found repetitions in sample 2\n",
            " 75% 3/4 [00:54<00:17, 17.45s/it]WARNING:root:Found repetitions in sample 0\n",
            "100% 4/4 [00:57<00:00, 14.46s/it]\n"
          ]
        }
      ]
    },
    {
      "cell_type": "code",
      "source": [
        "display.Latex('/content/physics/fundamental_quantum_equations.mmd')"
      ],
      "metadata": {
        "id": "-uHjkdxE6Rzm"
      },
      "execution_count": null,
      "outputs": []
    },
    {
      "cell_type": "markdown",
      "source": [
        "## **Batch Processing PDFs**"
      ],
      "metadata": {
        "id": "U7znlfGsNK7T"
      }
    },
    {
      "cell_type": "code",
      "source": [
        "!mkdir pdfs\n",
        "!curl -o pdfs/lec_1.pdf https://ocw.mit.edu/courses/8-04-quantum-physics-i-spring-2016/7f930e013cef9cd7dec5aa88baa83f0a_MIT8_04S16_LecNotes1.pdf -o pdfs/lec_2.pdf https://ocw.mit.edu/courses/8-04-quantum-physics-i-spring-2016/afaef4b8271759d352ac75c4e85eaee6_MIT8_04S16_LecNotes2.pdf\n",
        "!curl -o pdfs/lec_3.pdf https://ocw.mit.edu/courses/8-04-quantum-physics-i-spring-2016/f928b8dce3d6a218fddda9617c5eb4f2_MIT8_04S16_LecNotes3.pdf  -o pdfs/lec_4.pdf https://ocw.mit.edu/courses/8-04-quantum-physics-i-spring-2016/0c07cbdc9c352c39eb9539b31ded90d7_MIT8_04S16_LecNotes4.pdf"
      ],
      "metadata": {
        "id": "iOPO-IwDUs2o",
        "colab": {
          "base_uri": "https://localhost:8080/"
        },
        "outputId": "e4c9da7d-d53e-446a-c934-6a9f8bd545a6"
      },
      "execution_count": null,
      "outputs": [
        {
          "output_type": "stream",
          "name": "stdout",
          "text": [
            "  % Total    % Received % Xferd  Average Speed   Time    Time     Time  Current\n",
            "                                 Dload  Upload   Total   Spent    Left  Speed\n",
            "\r  0     0    0     0    0     0      0      0 --:--:-- --:--:-- --:--:--     0\r100  303k  100  303k    0     0  1153k      0 --:--:-- --:--:-- --:--:-- 1154k\n",
            "  % Total    % Received % Xferd  Average Speed   Time    Time     Time  Current\n",
            "                                 Dload  Upload   Total   Spent    Left  Speed\n",
            "100  509k  100  509k    0     0   264k      0  0:00:01  0:00:01 --:--:--  264k\n",
            "  % Total    % Received % Xferd  Average Speed   Time    Time     Time  Current\n",
            "                                 Dload  Upload   Total   Spent    Left  Speed\n",
            "100  284k  100  284k    0     0   295k      0 --:--:-- --:--:-- --:--:--  294k\n",
            "  % Total    % Received % Xferd  Average Speed   Time    Time     Time  Current\n",
            "                                 Dload  Upload   Total   Spent    Left  Speed\n",
            "100  265k  100  265k    0     0   160k      0  0:00:01  0:00:01 --:--:--  160k\n"
          ]
        }
      ]
    },
    {
      "cell_type": "markdown",
      "source": [
        "<sup>Source: [Quantum Physics I](https://ocw.mit.edu/courses/8-04-quantum-physics-i-spring-2016/) from MIT OpenCourseWare</sup>"
      ],
      "metadata": {
        "id": "wnl2XhQ_Whfo"
      }
    },
    {
      "cell_type": "code",
      "source": [
        "nougat_cmd = \"nougat --markdown --out 'batch_directory'\"\n",
        "pdf_path = '/content/pdfs'\n",
        "\n",
        "for pdf in os.listdir(pdf_path):\n",
        "  os.system(f\"{nougat_cmd} pdf /content/pdfs/{pdf}\")"
      ],
      "metadata": {
        "id": "-7m1IbyYNKRY"
      },
      "execution_count": null,
      "outputs": []
    },
    {
      "cell_type": "code",
      "source": [
        "display.Markdown('/content/batch_directory/lec_1.mmd')"
      ],
      "metadata": {
        "id": "-05ranMFfKxM"
      },
      "execution_count": null,
      "outputs": []
    },
    {
      "cell_type": "markdown",
      "source": [
        "# **References and Additional Learning**"
      ],
      "metadata": {
        "id": "FyQJWAxXIXvi"
      }
    },
    {
      "cell_type": "markdown",
      "source": [
        "## **Documentation**\n",
        "\n",
        "- **[Nougat: Neural Optical Understanding for Academic Documents](https://github.com/facebookresearch/nougat) GitHub Repository**\n",
        "- **[Nougat: Neural Optical Understanding for Academic Documents](https://arxiv.org/abs/2308.13418) Paper on arXiv**"
      ],
      "metadata": {
        "id": "cSgsIggmfyui"
      }
    },
    {
      "cell_type": "markdown",
      "source": [
        "## **Lectures**\n",
        "\n",
        "- **[Quantum Physics I](https://ocw.mit.edu/courses/8-04-quantum-physics-i-spring-2016/) from MIT OpenCourseWare**"
      ],
      "metadata": {
        "id": "4AAUFuwRWxQP"
      }
    },
    {
      "cell_type": "markdown",
      "source": [
        "## **Papers**\n",
        "\n",
        "- **[The Fundamental Equations of Quantum Mechanics](https://www.informationphilosopher.com/solutions/scientists/dirac/Fund_QM_1925.pdf) by Paul Dirac from the Proceedings of the Royal Society of London**\n",
        "- **[The Postulates of Quantum Mechanics](https://www.sydney.edu.au/science/chemistry/~mjtj/CHEM3117/Resources/postulates.pdf) from the University of Sydney**"
      ],
      "metadata": {
        "id": "CeRJBxKLIacN"
      }
    },
    {
      "cell_type": "markdown",
      "source": [
        "# **Connect**\n",
        "- **Feel free to connect with Adrian on [YouTube](https://www.youtube.com/channel/UCPuDxI3xb_ryUUMfkm0jsRA), [LinkedIn](https://www.linkedin.com/in/adrian-dolinay-frm-96a289106/), [Twitter](https://twitter.com/DolinayG), [GitHub](https://github.com/ad17171717), [Medium](https://adriandolinay.medium.com/) and [Odysee](https://odysee.com/@adriandolinay:0). Happy coding!**"
      ],
      "metadata": {
        "id": "jikOXv6tIWzI"
      }
    }
  ]
}